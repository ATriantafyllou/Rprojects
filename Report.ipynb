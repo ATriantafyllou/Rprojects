{
 "cells": [
  {
   "cell_type": "markdown",
   "metadata": {},
   "source": [
    "# Maintenance Reporting"
   ]
  },
  {
   "cell_type": "markdown",
   "metadata": {},
   "source": [
    "This Software is an initial try to manipulate data using R-language in order to generate prompt reports from databases extracted from SAP."
   ]
  },
  {
   "cell_type": "markdown",
   "metadata": {},
   "source": [
    "\n",
    "*****************************************************************************************************************\n",
    "#################################################################################################################\n",
    "*****************************************************************************************************************\n",
    "The Parameters we need to use are the following:\n",
    "\n",
    "# Date \n",
    "* Month : Filter date between 01.MO.YEAR and 31.MO.YEAR\n",
    "* Year  : Filter date between 01.01.YEAR and 31.12.YEAR\n",
    "* YearB : Filter date between 01.01.YEARB and 31.12.YEARB\n",
    "\n",
    "# Work Orders ID\n",
    "* SWO - Standing work orders : Filter number between 70000000 and 79999999\n",
    "* RWO - Regular work orders  : Filter number between 80000000 and 89999999\n",
    "\n",
    "# Contractors ID\n",
    "* Moraitis :150589\n",
    "* Bousoulas:\n",
    "* Raptis   :\n",
    "* Karavas  :\n",
    "* Doukas   :\n",
    "\n",
    "# Contractor rates\n",
    "* Moraitisrate : 17 e/h\n",
    "* Bousoulasrate: 17 e/h\n",
    "* Raptisrate   : 18 e/h\n",
    "\n",
    "# General Accounts\n",
    "* Service     : 6207000200\n",
    "* ServiceMater: 6207000201\n",
    "* ServiceEquip: 6207000202\n",
    "* Material    : 6207000203\n",
    "\n",
    "# Functional locations\n",
    "* Clay Crushing      : GC05-10\n",
    "* Raw Meal           : GC05-15\n",
    "* Burning            : GC05-20\n",
    "* Cem Grinding       : GC05-25\n",
    "* Bagging & Shipping : GC05-30\n",
    "* Fuel Preparation   : GC05-35\n",
    "* General Services   : GC05-40\n",
    "\n",
    "# Criticality\n",
    "* Immediate             : 1\n",
    "* Within one day        : 2\n",
    "* Within one week       : 3\n",
    "* Within one month      : 4\n",
    "* At the first stop     : 5\n",
    "* At scheduled Shutdown : 6\n",
    "\n",
    "*****************************************************************************************************************\n",
    "#################################################################################################################\n",
    "*****************************************************************************************************************\n",
    "\n"
   ]
  },
  {
   "cell_type": "markdown",
   "metadata": {},
   "source": [
    "# 1. Data Manipulation\n",
    "\n",
    "We need to extract from SAP, insert in a separate folder the csv file and manipulate two databases:\n",
    "* Goods movement\n",
    "* Work Orders list\n",
    "\n",
    "******************************************************************************************************************\n",
    "##################################################################################################################\n",
    "******************************************************************************************************************"
   ]
  },
  {
   "cell_type": "code",
   "execution_count": null,
   "metadata": {},
   "outputs": [],
   "source": []
  },
  {
   "cell_type": "markdown",
   "metadata": {},
   "source": [
    "# 2. Standing vs Regular\n",
    "\n",
    "From the \"Goods Movement\" database we filter Standing and Regular Work orders by month, present and last year.\n",
    "Then we sum up the costs.\n",
    "The output should be the following:\n",
    "* SCM / SCY / SCB - which stands for Standing WO Cost Monthly,Yearly and Year Before\n",
    "* RCM / RCY / RCB - which stands for Regular  WO Cost Monthly,Yearly and Year Before\n",
    "* TCM / TCY / TCB - which stands for Total       Cost Monthly,Yearly and Year Before\n",
    "\n",
    "Three pie charts should be created based on the below percentages\n",
    "* RMP / SMP       - which stands for regular / standing monthly percentage\n",
    "* RYP / SYP       - which stands for regular / standing yearly percentage\n",
    "* RBP / SBP       - which stands for regular / standing last year percentage\n",
    "\n",
    "where, RMP = RCM/TCM , SMP = SCM/TCM , RYP = RCY/TCY , SYP = SCY/TCY , RBP = RCB/TCB , SBP = SCB/TCB\n",
    "\n",
    "\n",
    "******************************************************************************************************************\n",
    "##################################################################################################################\n",
    "******************************************************************************************************************\n",
    "\n"
   ]
  },
  {
   "cell_type": "code",
   "execution_count": null,
   "metadata": {},
   "outputs": [],
   "source": []
  },
  {
   "cell_type": "markdown",
   "metadata": {},
   "source": [
    "# 3. Number of Regular WO generated\n",
    "\n",
    "From the Work Orders list we count the non zero Regular Work orders created so far this month, persent year and during last year. Furthermore,  we identify how many work orders are attached to a notification.\n",
    "\n",
    "The output variables are the following:\n",
    "* RWONM / RWONY / RWONB - which stands for regular work order number, monthly / yearly / year before,\n",
    "* NZRNM / NZRNY / NZRNB - which stands for non zero regular number,   monthly / yearly / year before,\n",
    "* NARNM / NARNY / NARNB - which stands for notification atached regular number monthly,yearly...\n",
    "\n",
    "Three pie charts should be created based on the below percentages\n",
    "\n",
    "* NARPM / NARPY / NARPB - which stands for notification attached regular percentage,monthly / yearly / year before\n",
    "\n",
    "where NARPM = NARNM/RWONM , NARPY = NARNY/RWONY , NARPB = NARPB/RWONB \n",
    "\n",
    "******************************************************************************************************************\n",
    "##################################################################################################################\n",
    "******************************************************************************************************************"
   ]
  },
  {
   "cell_type": "code",
   "execution_count": null,
   "metadata": {},
   "outputs": [],
   "source": []
  },
  {
   "cell_type": "markdown",
   "metadata": {},
   "source": [
    "# 4.Average Regular WO cost"
   ]
  },
  {
   "cell_type": "markdown",
   "metadata": {},
   "source": [
    "# 5.Maintenance Cost Allocation"
   ]
  },
  {
   "cell_type": "markdown",
   "metadata": {},
   "source": [
    "# 6.Contractors Cost"
   ]
  },
  {
   "cell_type": "markdown",
   "metadata": {},
   "source": [
    "# 7.Contractors Average work duration"
   ]
  },
  {
   "cell_type": "markdown",
   "metadata": {},
   "source": [
    "# 8.Cost distribution within the plant"
   ]
  },
  {
   "cell_type": "markdown",
   "metadata": {},
   "source": [
    "# 9.Service bad actors Identifications"
   ]
  },
  {
   "cell_type": "markdown",
   "metadata": {},
   "source": [
    "# 10.CriticalityDistribution within the plant"
   ]
  },
  {
   "cell_type": "code",
   "execution_count": null,
   "metadata": {},
   "outputs": [],
   "source": []
  },
  {
   "cell_type": "code",
   "execution_count": null,
   "metadata": {},
   "outputs": [],
   "source": []
  }
 ],
 "metadata": {
  "kernelspec": {
   "display_name": "R",
   "language": "R",
   "name": "ir"
  },
  "language_info": {
   "codemirror_mode": "r",
   "file_extension": ".r",
   "mimetype": "text/x-r-source",
   "name": "R",
   "pygments_lexer": "r",
   "version": "3.4.4"
  }
 },
 "nbformat": 4,
 "nbformat_minor": 2
}
